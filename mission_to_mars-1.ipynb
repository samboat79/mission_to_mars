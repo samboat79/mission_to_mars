{
 "cells": [
  {
   "cell_type": "code",
   "execution_count": 1,
   "metadata": {},
   "outputs": [],
   "source": [
    "from bs4 import BeautifulSoup as bs\n",
    "from splinter import Browser\n",
    "import pandas as pd"
   ]
  },
  {
   "cell_type": "code",
   "execution_count": 2,
   "metadata": {
    "collapsed": true
   },
   "outputs": [],
   "source": [
    "def init_browser():\n",
    "    executable_path = {'executable_path': '/usr/local/bin/chromedriver'}\n",
    "    return Browser('chrome', **executable_path, headless=False)"
   ]
  },
  {
   "cell_type": "code",
   "execution_count": 3,
   "metadata": {
    "collapsed": true
   },
   "outputs": [],
   "source": [
    "def mars_news():\n",
    "    browser = init_browser()\n",
    "    news_url = 'https://mars.nasa.gov/news'  \n",
    "    browser.visit(news_url)\n",
    "    browser.find_by_name('content_title')\n",
    "    browser.click_link_by_partial_href('news/')\n",
    "    html = browser.html\n",
    "    soup = bs(html, 'html.parser')\n",
    "    news_title = soup.select_one('h1.article_title').text\n",
    "    news_p = soup.select_one('div.wysiwyg_content').text\n",
    "    return news_title, news_p"
   ]
  },
  {
   "cell_type": "code",
   "execution_count": 4,
   "metadata": {
    "collapsed": true
   },
   "outputs": [],
   "source": [
    "def mars_space_image():\n",
    "    browser = init_browser()\n",
    "    jpl_url = 'https://www.jpl.nasa.gov'\n",
    "    space_images_url = '/spaceimages'\n",
    "    search_url = '/?search=&category=Mars'\n",
    "    jpl_mars_space_image_url = jpl_url + space_images_url + search_url\n",
    "    browser.visit(jpl_mars_space_image_url)\n",
    "    image_html = browser.html\n",
    "    image_soup = bs(image_html, 'html.parser')\n",
    "    jpl_image = image_soup.footer.a['data-fancybox-href']\n",
    "    return jpl_url + jpl_image"
   ]
  },
  {
   "cell_type": "code",
   "execution_count": 5,
   "metadata": {
    "collapsed": true
   },
   "outputs": [],
   "source": [
    "def mars_weather_tweet():\n",
    "    browser = init_browser()\n",
    "    tweet_url = 'https://twitter.com/marswxreport?lang=en'\n",
    "    browser.visit(tweet_url)\n",
    "    tweet_html = browser.html\n",
    "    tweet_soup = bs(tweet_html, 'html.parser')\n",
    "    return tweet_soup.find('p', class_=\"TweetTextSize\").next_element"
   ]
  },
  {
   "cell_type": "code",
   "execution_count": 6,
   "metadata": {
    "collapsed": true
   },
   "outputs": [],
   "source": [
    "def mars_facts():\n",
    "    facts_url = 'http://space-facts.com/mars/'\n",
    "    tables = pd.read_html(facts_url)\n",
    "    facts_ds = tables[0]\n",
    "    facts_ds.columns = ['Category', 'Fact']\n",
    "    facts_ds.set_index('Category', inplace=True)\n",
    "    html_string = facts_ds.to_html()\n",
    "    return html_string.replace('\\n', '')"
   ]
  },
  {
   "cell_type": "code",
   "execution_count": 7,
   "metadata": {
    "collapsed": true
   },
   "outputs": [],
   "source": [
    "def mars_hemisphere_images():\n",
    "    browser = init_browser()\n",
    "    hem_url = 'https://astrogeology.usgs.gov/search/results?q=hemisphere+enhanced&k1=target&v1=Mars'\n",
    "    hem_images = ['Cerberus Hemisphere Enhanced', 'Schiaparelli Hemisphere Enhanced',\n",
    "                  'Syrtis Major Hemisphere Enhanced', 'Valles Marineris Hemisphere Enhanced']\n",
    "    hemisphere_image_urls = []\n",
    "    for image in hem_images:\n",
    "        hem_image_data = {}\n",
    "        browser.visit(hem_url)\n",
    "        browser.click_link_by_partial_text(image)\n",
    "        page_title = browser.title\n",
    "        mhi_html = browser.html\n",
    "        mhi_soup = bs(mhi_html, 'html.parser')\n",
    "        page_url = mhi_soup.select_one(\"div.downloads\").ul.li.a['href']\n",
    "        hem_image_data = {\n",
    "            'title': page_title,\n",
    "            'img_url': page_url\n",
    "        }\n",
    "        hemisphere_image_urls.append(hem_image_data)\n",
    "    return hemisphere_image_urls"
   ]
  },
  {
   "cell_type": "code",
   "execution_count": 9,
   "metadata": {},
   "outputs": [],
   "source": [
    "def scrape():\n",
    "    news_title, news_p = mars_news()\n",
    "    return {\n",
    "        'news_title': news_title,\n",
    "        'news_p': news_p,\n",
    "        'featured_image_url': mars_space_image(),\n",
    "        'mars_weather': mars_weather_tweet(),\n",
    "        'mars_facts': mars_facts(),\n",
    "        'hemisphere_image_urls': mars_hemisphere_images()\n",
    "    \n",
    "    }\n"
   ]
  },
  {
   "cell_type": "code",
   "execution_count": null,
   "metadata": {
    "collapsed": true
   },
   "outputs": [],
   "source": []
  }
 ],
 "metadata": {
  "kernelspec": {
   "display_name": "Python [default]",
   "language": "python",
   "name": "python3"
  },
  "language_info": {
   "codemirror_mode": {
    "name": "ipython",
    "version": 3
   },
   "file_extension": ".py",
   "mimetype": "text/x-python",
   "name": "python",
   "nbconvert_exporter": "python",
   "pygments_lexer": "ipython3",
   "version": "3.6.3"
  }
 },
 "nbformat": 4,
 "nbformat_minor": 2
}
